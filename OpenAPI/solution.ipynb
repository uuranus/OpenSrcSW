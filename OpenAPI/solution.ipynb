{
 "cells": [
  {
   "cell_type": "code",
   "execution_count": 31,
   "metadata": {},
   "outputs": [
    {
     "name": "stdout",
     "output_type": "stream",
     "text": [
      "(1,2)\n",
      "(3,4)\n",
      "(4,6)\n"
     ]
    }
   ],
   "source": [
    "#1번\n",
    "class Point:\n",
    "    x=0\n",
    "    y=0\n",
    "    def __init__(self,x,y):\n",
    "        self.x=x\n",
    "        self.y=y\n",
    "        \n",
    "    def show(self):\n",
    "        print(\"({0:d},{1:d})\".format(self.x,self.y))\n",
    "        \n",
    "    def __add__(self,point):\n",
    "        self.x=self.x+point.x\n",
    "        self.y=self.y+point.y\n",
    "        return  self\n",
    "    \n",
    "    \n",
    "    \n",
    "    \n",
    "if __name__==\"__main__\":\n",
    "    a=Point(1,2)\n",
    "    a.show()\n",
    "    \n",
    "    b=Point(3,4)\n",
    "    b.show()\n",
    "    \n",
    "    a=a+b\n",
    "    a.show()"
   ]
  },
  {
   "cell_type": "code",
   "execution_count": 18,
   "metadata": {},
   "outputs": [
    {
     "name": "stdout",
     "output_type": "stream",
     "text": [
      "Max Week = 05/08 ~ 05/14\n"
     ]
    }
   ],
   "source": [
    "#2번\n",
    "import csv\n",
    "\n",
    "f=open(\"finalseoul.csv\") #실습때 사용한 데이터랑 이름이 겹쳐 finalseoul로 이름을 변경함\n",
    "data=csv.reader(f)\n",
    "header=next(data)\n",
    "\n",
    "max_diff=-999\n",
    "max_week=[]\n",
    "i=0\n",
    "sum=0\n",
    "temp=[]\n",
    "for row in data:\n",
    "    if(i<7):\n",
    "        sum+=float(row[-1])-float(row[-2])\n",
    "        temp.append(row[0])\n",
    "        i+=1\n",
    "        continue\n",
    "        \n",
    "    if(sum>max_diff):\n",
    "        max_diff=sum\n",
    "        max_week=temp\n",
    "      \n",
    "    sum=float(row[-1])-float(row[-2])\n",
    "    temp=[]\n",
    "    temp.append(row[0])\n",
    "    i=1\n",
    "        \n",
    "\n",
    "firstday=max_week[0].split(\"-\")\n",
    "lastday=max_week[-1].split(\"-\")\n",
    "print(\"Max Week = {0:s}/{1:s} ~ {2:s}/{3:s}\".format(firstday[1],firstday[2],lastday[1],lastday[2]))"
   ]
  },
  {
   "cell_type": "code",
   "execution_count": 52,
   "metadata": {},
   "outputs": [
    {
     "data": {
      "image/png": "[encoded data removed]",
      "text/plain": [
       "<Figure size 432x288 with 1 Axes>"
      ]
     },
     "metadata": {
      "needs_background": "light"
     },
     "output_type": "display_data"
    }
   ],
   "source": [
    "#3번\n",
    "import numpy as np\n",
    "import matplotlib.pyplot as plt\n",
    "\n",
    "Docs=np.array([[1,1,0,1,0,1],[1,1,1,0,1,0],[1,1,0,1,0,0]])\n",
    "Query=np.array([1,1,0,0,1,0])\n",
    "\n",
    "result=np.dot(Docs,Query.transpose())\n",
    "result=result/(np.sqrt(np.sum(Docs))*np.sqrt(np.sum(Query))) #1제곱은 1이라서 그냥 sum을 함\n",
    "\n",
    "x=[\"doc1={0:.2f}\".format(result[0]),\"doc2={0:.2f}\".format(result[1]),\"doc3={0:.2f}\".format(result[2])]\n",
    "plt.title(\"Cosine similarities\")\n",
    "plt.bar(x,result)\n",
    "plt.show()"
   ]
  },
  {
   "cell_type": "code",
   "execution_count": null,
   "metadata": {},
   "outputs": [],
   "source": []
  }
 ],
 "metadata": {
  "kernelspec": {
   "display_name": "Python 3",
   "language": "python",
   "name": "python3"
  },
  "language_info": {
   "codemirror_mode": {
    "name": "ipython",
    "version": 3
   },
   "file_extension": ".py",
   "mimetype": "text/x-python",
   "name": "python",
   "nbconvert_exporter": "python",
   "pygments_lexer": "ipython3",
   "version": "3.7.4"
  }
 },
 "nbformat": 4,
 "nbformat_minor": 2
}
