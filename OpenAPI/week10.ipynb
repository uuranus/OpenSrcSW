{
 "cells": [
  {
   "cell_type": "code",
   "execution_count": 1,
   "metadata": {
    "scrolled": false
   },
   "outputs": [
    {
     "name": "stdout",
     "output_type": "stream",
     "text": [
      "Numbers? 10 456 87 78\n",
      "Max = 456\n"
     ]
    }
   ],
   "source": [
    "#실습2 최대값 구하기\n",
    "str=input(\"Numbers? \")\n",
    "list=str.split(\" \")\n",
    "max=0\n",
    "for num in list:\n",
    "    if(max<int(num)):\n",
    "        max=int(num)\n",
    "print(\"Max = %d\" %max)"
   ]
  },
  {
   "cell_type": "code",
   "execution_count": 2,
   "metadata": {
    "scrolled": true
   },
   "outputs": [
    {
     "name": "stdout",
     "output_type": "stream",
     "text": [
      "input string: abc def\n",
      "efg bcd \n",
      "input string: efg bcd\n",
      "abc def\n"
     ]
    }
   ],
   "source": [
    "#실습3 암호화/복호화\n",
    "estr=input(\"input string: \")\n",
    "estr=estr.split(\" \")\n",
    "estr[0],estr[1]=estr[1],estr[0]\n",
    "newestr=\"\"\n",
    "for word in estr:\n",
    "    for e in word:\n",
    "        newestr+=chr(ord(e)+1)\n",
    "    newestr+=\" \"\n",
    "    \n",
    "print(newestr)\n",
    "\n",
    "dstr=input(\"input string: \")\n",
    "newdstr=\"\"\n",
    "for d in dstr:\n",
    "    if(d==' '):\n",
    "        newdstr+=\" \"\n",
    "        continue\n",
    "    newdstr+=chr(ord(d)-1)\n",
    "\n",
    "newdstr=newdstr.split(\" \")\n",
    "newdstr[0],newdstr[1]=newdstr[1],newdstr[0]\n",
    "newdstr=\" \".join(newdstr)\n",
    "print(newdstr)"
   ]
  },
  {
   "cell_type": "code",
   "execution_count": 2,
   "metadata": {},
   "outputs": [
    {
     "name": "stdout",
     "output_type": "stream",
     "text": [
      "input 10 people's name and telnum\n",
      "aaa 111\n",
      "bbb 222\n",
      "ccc 333\n",
      "ddd 444\n",
      "eee 555\n",
      "fff 666\n",
      "ggg 777\n",
      "hhh 888\n",
      "iii 999\n",
      "jjj 000\n",
      "-----menu-----\n",
      "1.find telnum 2. find name 3. exit \n",
      "1\n",
      "name= 777\n",
      "Error : input name\n",
      "-----menu-----\n",
      "1.find telnum 2. find name 3. exit \n",
      "1\n",
      "name= ggg\n",
      "777\n",
      "-----menu-----\n",
      "1.find telnum 2. find name 3. exit \n",
      "2\n",
      "telnum= hhh\n",
      "Error : input telnum\n",
      "-----menu-----\n",
      "1.find telnum 2. find name 3. exit \n",
      "2\n",
      "telnum= 888\n",
      "hhh\n",
      "-----menu-----\n",
      "1.find telnum 2. find name 3. exit \n",
      "3\n"
     ]
    }
   ],
   "source": [
    "#실습4 전화번호부\n",
    "print(\"input 10 people's name and telnum\")\n",
    "dic={}\n",
    "for i in range(10):\n",
    "    str=input().split(\" \")\n",
    "    dic[str[0]]=str[1]\n",
    "\n",
    "while True:\n",
    "    print(\"-----menu-----\")\n",
    "    print(\"1.find telnum 2. find name 3. exit \")\n",
    "    num=int(input())\n",
    "    if(num==1):\n",
    "        name=input(\"name= \")\n",
    "        if(name in dic):\n",
    "            print(dic[name])\n",
    "        else:\n",
    "            print(\"Error : input name\")\n",
    "    elif(num==2):\n",
    "        found=False\n",
    "        telnum=input(\"telnum= \")\n",
    "        for key,value in dic.items():\n",
    "            if(value==telnum):\n",
    "                print(key)\n",
    "                found=True\n",
    "                break\n",
    "        if(found):\n",
    "            continue\n",
    "        print(\"Error : input telnum\")\n",
    "    elif(num==3):\n",
    "        break\n",
    "    "
   ]
  },
  {
   "cell_type": "code",
   "execution_count": null,
   "metadata": {},
   "outputs": [],
   "source": []
  }
 ],
 "metadata": {
  "kernelspec": {
   "display_name": "Python 3",
   "language": "python",
   "name": "python3"
  }
 },
 "nbformat": 4,
 "nbformat_minor": 2
}
