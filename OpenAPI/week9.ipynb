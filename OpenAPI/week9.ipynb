{
 "cells": [
  {
   "cell_type": "code",
   "execution_count": 1,
   "metadata": {},
   "outputs": [
    {
     "name": "stdout",
     "output_type": "stream",
     "text": [
      "x값을 입력하세요5\n",
      "103\n"
     ]
    }
   ],
   "source": [
    "#실습 1 수치 계산\n",
    "x=int(input('x값을 입력하세요'))\n",
    "y=3*x**2+5*x+3\n",
    "print(y)"
   ]
  },
  {
   "cell_type": "code",
   "execution_count": 3,
   "metadata": {},
   "outputs": [
    {
     "name": "stdout",
     "output_type": "stream",
     "text": [
      "반지름을 입력하세요10\n",
      "둘레는 62.80\n",
      "넓이는 314.00\n"
     ]
    }
   ],
   "source": [
    "radius=int(input(\"반지름을 입력하세요\"))\n",
    "pi=3.14\n",
    "print(\"둘레는 {0:.2f}\".format(2*radius*pi))\n",
    "print(\"넓이는 {0:.2f}\".format(radius*radius*pi))"
   ]
  },
  {
   "cell_type": "code",
   "execution_count": null,
   "metadata": {},
   "outputs": [],
   "source": []
  }
 ],
 "metadata": {
  "kernelspec": {
   "display_name": "Python 3",
   "language": "python",
   "name": "python3"
  },
  "language_info": {
   "codemirror_mode": {
    "name": "ipython",
    "version": 3
   },
   "file_extension": ".py",
   "mimetype": "text/x-python",
   "name": "python",
   "nbconvert_exporter": "python",
   "pygments_lexer": "ipython3",
   "version": "3.7.4"
  }
 },
 "nbformat": 4,
 "nbformat_minor": 2
}
