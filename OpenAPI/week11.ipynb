{
 "cells": [
  {
   "cell_type": "code",
   "execution_count": 1,
   "metadata": {},
   "outputs": [
    {
     "name": "stdout",
     "output_type": "stream",
     "text": [
      "cp file1.txt\n"
     ]
    }
   ],
   "source": [
    "#실습6 copy\n",
    "import sys\n",
    "\n",
    "command=input().split()\n",
    "if(command[0]!='cp'):\n",
    "    sys.exit()\n",
    "    \n",
    "f1=open(command[1],'r')\n",
    "f2=open('file2.txt','w')\n",
    "\n",
    "for line in f1:\n",
    "    f2.write(line)\n",
    "    \n",
    "f1.close()\n",
    "f2.close()"
   ]
  },
  {
   "cell_type": "code",
   "execution_count": 2,
   "metadata": {},
   "outputs": [
    {
     "name": "stdout",
     "output_type": "stream",
     "text": [
      "wc file1.txt\n",
      "line = 9\n",
      "word = 18\n",
      "0\n"
     ]
    }
   ],
   "source": [
    "#실습7 wc\n",
    "\n",
    "while True:\n",
    "    command=input().split()\n",
    "    if(command[0]=='0'):\n",
    "        break\n",
    "    if(command[0]!='wc'):\n",
    "        print('command error')\n",
    "        continue\n",
    " \n",
    "    f=open(command[1],'r')\n",
    "    lines=0\n",
    "    words=0\n",
    "    for line in f:\n",
    "        lines+=1\n",
    "        words+=len(line.split())\n",
    "        \n",
    "    print(\"line = {0:d}\".format(lines))\n",
    "    print(\"word = {0:d}\".format(words))"
   ]
  },
  {
   "cell_type": "code",
   "execution_count": 3,
   "metadata": {},
   "outputs": [
    {
     "name": "stdout",
     "output_type": "stream",
     "text": [
      "1+2=3입니다.\n",
      "5-1=4입니다.\n",
      "2*3=6입니다.\n",
      "6/2=3입니다.\n"
     ]
    }
   ],
   "source": [
    "#실습8 사칙 연산 클래스\n",
    "class Calc:\n",
    "    def sum(self, a, b):\n",
    "        result=a+b\n",
    "        print(\"{0:d}+{1:d}={2:d}입니다.\".format(a,b,result))\n",
    "    \n",
    "    def sub(self, a, b):\n",
    "        result=a-b\n",
    "        print(\"{0:d}-{1:d}={2:d}입니다.\".format(a,b,result))\n",
    "    \n",
    "    def multi(self, a, b):\n",
    "        result=a*b\n",
    "        print(\"{0:d}*{1:d}={2:d}입니다.\".format(a,b,result))\n",
    "        \n",
    "    def divi(self, a, b):\n",
    "        result=a//b\n",
    "        print(\"{0:d}/{1:d}={2:d}입니다.\".format(a,b,result))\n",
    "        \n",
    "if __name__==\"__main__\":\n",
    "    calc = Calc()\n",
    "    calc.sum(1,2)\n",
    "    calc.sub(5,1)\n",
    "    calc.multi(2,3)\n",
    "    calc.divi(6,2)"
   ]
  },
  {
   "cell_type": "code",
   "execution_count": 12,
   "metadata": {},
   "outputs": [
    {
     "name": "stdout",
     "output_type": "stream",
     "text": [
      "계산식 입력: 1 + 2 - 3 * 4 + 5\n",
      "계산기 출력 : 1+2-3*4+5=-4.00\n"
     ]
    }
   ],
   "source": [
    "#실습9 계산기\n",
    "import sys\n",
    "\n",
    "class Stack:\n",
    "    stack=[]\n",
    "    top=-1\n",
    "    def push(self, value):\n",
    "        self.top+=1\n",
    "        self.stack.insert(self.top,value)\n",
    "        \n",
    "    def pop(self):\n",
    "        if(self.top==-1):\n",
    "            print('stack is empty')\n",
    "            return\n",
    "        value=self.stack[self.top]\n",
    "        self.stack.pop(self.top)\n",
    "        self.top-=1\n",
    "        return value\n",
    "    \n",
    "    def peek(self):\n",
    "        return self.stack[self.top]\n",
    "\n",
    "    def size(self):\n",
    "        return self.top+1\n",
    "\n",
    "\n",
    "def calculate(a, b, oper):\n",
    "    if(oper=='+'):\n",
    "        return a+b\n",
    "    elif(oper=='-'):\n",
    "        return a-b\n",
    "    elif(oper=='*'):\n",
    "        return a*b\n",
    "    elif(oper=='/'):\n",
    "        return float(a)/b\n",
    "    else:\n",
    "        return\n",
    "    \n",
    "if __name__==\"__main__\":\n",
    "    expr=input('계산식 입력: ')\n",
    "    exprstr=expr.replace(\" \",\"\")\n",
    "    \n",
    "    expr=expr.split()\n",
    "    \n",
    "    opStack=Stack()\n",
    "    numStack=Stack()\n",
    "    \n",
    "    for e in expr:\n",
    "        if(e=='+' or e=='-' or e=='*' or e=='/'):\n",
    "            if(opStack.size()==0): #스택이 비어있다면\n",
    "                opStack.push(e)\n",
    "                continue\n",
    "            if(e=='*' or e=='/'): \n",
    "                if(opStack.peek()=='+' or opStack.peek()=='-'):  #스택에 들어있는 연산자보다 우선순위가 더 크다면\n",
    "                    opStack.push(e)\n",
    "                    continue\n",
    "                else: #동일 우선수위 연산자라면\n",
    "                    while(opStack.peek()!='+' and opStack.peek()!='-'): #하위 연산자가 나올 때까지\n",
    "                        b=numStack.pop()\n",
    "                        oper=opStack.pop()\n",
    "                        a=numStack.pop()\n",
    "                        \n",
    "                        numStack.push(calculate(a,b,oper))\n",
    "                \n",
    "                    opStack.push(e)\n",
    "                    \n",
    "            else: #더하기나 뺄셈이라면\n",
    "                while(opStack.size()!=0): #스택에 있는 모든 연산자들 연산\n",
    "                    b=numStack.pop()\n",
    "                    oper=opStack.pop()\n",
    "                    a=numStack.pop()\n",
    "                    \n",
    "                    numStack.push(calculate(a,b,oper))\n",
    "                    \n",
    "                opStack.push(e)\n",
    "\n",
    "        elif((e>='a' and e<='z') or (e>='A' and e<='Z')):\n",
    "            print('expression error')\n",
    "            sys.exit()\n",
    "        else:\n",
    "            numStack.push(int(e))\n",
    "             \n",
    "    #수식이 끝났는데 연산자가 남아있다면\n",
    "    if(opStack.size()!=0):\n",
    "        while(opStack.size()!=0):\n",
    "            if(numStack.size()<2):\n",
    "                print('expression error')\n",
    "                sys.exit()\n",
    "            b=numStack.pop()\n",
    "            oper=opStack.pop()\n",
    "            a=numStack.pop()\n",
    "            \n",
    "            numStack.push(calculate(a,b,oper))\n",
    "\n",
    "    #opStack도 다 비었다면\n",
    "    print(\"계산기 출력 : {0:s}={1:.2f}\".format(exprstr,numStack.pop()))\n",
    "    \n",
    "        "
   ]
  },
  {
   "cell_type": "code",
   "execution_count": null,
   "metadata": {},
   "outputs": [],
   "source": []
  },
  {
   "cell_type": "code",
   "execution_count": null,
   "metadata": {},
   "outputs": [],
   "source": []
  }
 ],
 "metadata": {
  "kernelspec": {
   "display_name": "Python 3",
   "language": "python",
   "name": "python3"
  },
  "language_info": {
   "codemirror_mode": {
    "name": "ipython",
    "version": 3
   },
   "file_extension": ".py",
   "mimetype": "text/x-python",
   "name": "python",
   "nbconvert_exporter": "python",
   "pygments_lexer": "ipython3",
   "version": "3.7.4"
  }
 },
 "nbformat": 4,
 "nbformat_minor": 2
}
