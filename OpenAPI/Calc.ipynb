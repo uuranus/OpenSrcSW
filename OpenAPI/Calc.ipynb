{
 "cells": [
  {
   "cell_type": "code",
   "execution_count": null,
   "metadata": {},
   "outputs": [],
   "source": [
    "\n",
    "#실습8 사칙 연산 클래스\n",
    "#import문 실행을 위해 따로 파일을 분리\n",
    "\n",
    "class Calc:\n",
    "    def sum(self, a, b):\n",
    "        result=a+b\n",
    "        print(\"{0:d}+{1:d}={2:d}입니다.\".format(a,b,result))\n",
    "    \n",
    "    def sub(self, a, b):\n",
    "        result=a-b\n",
    "        print(\"{0:d}-{1:d}={2:d}입니다.\".format(a,b,result))\n",
    "    \n",
    "    def multi(self, a, b):\n",
    "        result=a*b\n",
    "        print(\"{0:d}*{1:d}={2:d}입니다.\".format(a,b,result))\n",
    "        \n",
    "    def divi(self, a, b):\n",
    "        result=a//b\n",
    "        print(\"{0:d}/{1:d}={2:d}입니다.\".format(a,b,result))\n",
    "        "
   ]
  }
 ],
 "metadata": {
  "kernelspec": {
   "display_name": "Python 3",
   "language": "python",
   "name": "python3"
  },
  "language_info": {
   "codemirror_mode": {
    "name": "ipython",
    "version": 3
   },
   "file_extension": ".py",
   "mimetype": "text/x-python",
   "name": "python",
   "nbconvert_exporter": "python",
   "pygments_lexer": "ipython3",
   "version": "3.7.4"
  }
 },
 "nbformat": 4,
 "nbformat_minor": 2
}
